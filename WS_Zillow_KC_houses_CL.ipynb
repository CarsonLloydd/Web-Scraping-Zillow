{
 "cells": [
  {
   "cell_type": "code",
   "execution_count": 1,
   "metadata": {},
   "outputs": [],
   "source": [
    "import requests\n",
    "from bs4 import BeautifulSoup"
   ]
  },
  {
   "cell_type": "code",
   "execution_count": 2,
   "metadata": {},
   "outputs": [],
   "source": [
    "url = 'https://www.zillow.com/king-county-wa/?searchQueryState={%22pagination%22:{},%22usersSearchTerm%22:%22King%20County,%20WA%22,%22mapBounds%22:{%22west%22:-122.67175587695311,%22east%22:-120.92218312304686,%22south%22:46.89011178033753,%22north%22:47.971419225684436},%22regionSelection%22:[{%22regionId%22:207,%22regionType%22:4}],%22mapZoom%22:9,%22filterState%22:{%22sortSelection%22:{%22value%22:%22globalrelevanceex%22}},%22isListVisible%22:true,%22isMapVisible%22:true}'\n",
    "res = requests.get(url)"
   ]
  },
  {
   "cell_type": "code",
   "execution_count": 3,
   "metadata": {},
   "outputs": [
    {
     "name": "stdout",
     "output_type": "stream",
     "text": [
      "None\n"
     ]
    },
    {
     "data": {
      "text/plain": [
       "bs4.BeautifulSoup"
      ]
     },
     "execution_count": 3,
     "metadata": {},
     "output_type": "execute_result"
    }
   ],
   "source": [
    "print(res.raise_for_status())\n",
    "soup = BeautifulSoup(res.text)\n",
    "type(soup)"
   ]
  },
  {
   "cell_type": "code",
   "execution_count": 4,
   "metadata": {},
   "outputs": [
    {
     "name": "stdout",
     "output_type": "stream",
     "text": [
      "<html>\n",
      " <head>\n",
      "  <meta content=\"noindex, nofollow\" name=\"robots\"/>\n",
      "  <link href=\"https://www.zillowstatic.com/vstatic/80d5e73/static/css/z-pages/captcha.css\" media=\"screen\" rel=\"stylesheet\" type=\"text/css\"/>\n",
      "  <script>\n",
      "   window._pxAppId = 'PXHYx10rg3';\n",
      "        window._pxJsClientSrc = '/HYx10rg3/init.js';\n",
      "        window._pxHostUrl = '/HYx10rg3/xhr';\n",
      "        window._pxFirstPartyEnabled = true;\n",
      "        window._pxreCaptchaTheme='light';\n",
      "  </script>\n",
      "  <script src=\"https://captcha.px-cdn.net/PXHYx10rg3/captcha.js?a=c&amp;m=0\" type=\"text/javascript\">\n",
      "  </script>\n",
      "  <script>\n",
      "   function getQueryString(name, url) {\n",
      "            if (!url) url = window.location.href;\n",
      "            name = name.replace(/[\\[\\]]/g, \"\\\\$&\");\n",
      "            var regex = new RegExp(\"[?&]\" + name + \"(=([^&#]*)|&|#|$)\"),\n",
      "                results = regex.exec(url);\n",
      "            if (!results) return null;\n",
      "            if (!results[2]) return '';\n",
      "            return decodeURIComponent(results[2].replace(/\\+/g, \" \"));\n",
      "        }\n",
      "        document.addEventListener(\"DOMContentLoaded\", function(e) {\n",
      "            var uuidVerifyRegExp = /^\\{?[0-9a-fA-F]{8}-[0-9a-fA-F]{4}-[0-9a-fA-F]{4}-[0-9a-fA-F]{4}-[0-9a-fA-F]{12}\\}?$/i;\n",
      "            document.getElementById(\"uuid\").innerText = \"UUID: \" + uuidVerifyRegExp.exec(getQueryString(\"uuid\"));\n",
      "        });\n",
      "\n",
      "        function handleCaptcha(response) {\n",
      "            var vid = getQueryString(\"vid\"); // getQueryString is implemented below\n",
      "            var uuid = getQueryString(\"uuid\");\n",
      "            var name = '_pxCaptcha';\n",
      "            var cookieValue =  btoa(JSON.stringify({r:response,v:vid,u:uuid}));\n",
      "            var cookieParts = [name, '=', cookieValue, '; path=/'];\n",
      "            cookieParts.push('; domain=' + window.location.hostname);\n",
      "            cookieParts.push('; max-age=10');//expire after 10 seconds\n",
      "            document.cookie = cookieParts.join('');\n",
      "            var originalURL = getOriginalUrl(\"url\");\n",
      "            var originalHost = window.location.host;\n",
      "            var newHref = window.location.protocol + \"//\" + originalHost;\n",
      "            originalURL = originalURL || '/';\n",
      "            newHref = newHref + originalURL;\n",
      "            window.location.href = newHref;\n",
      "        }\n",
      "\n",
      "        function getOriginalUrl(name) {\n",
      "            var url = getQueryString(name);\n",
      "            if (!url) return null;\n",
      "            var regExMatcher = new RegExp(\"(([^&#@]*)|&|#|$)\");\n",
      "            var matches = regExMatcher.exec(url);\n",
      "            if (!matches) return null;\n",
      "            return matches[0];\n",
      "        }\n",
      "  </script>\n",
      " </head>\n",
      " <body>\n",
      "  <main class=\"zsg-layout-content\">\n",
      "   <div class=\"error-content-block\">\n",
      "    <div class=\"error-text-content\">\n",
      "     <!-- <h1>Captcha</h1> -->\n",
      "     <h5>\n",
      "      Please verify you're a human to continue.\n",
      "     </h5>\n",
      "     <div class=\"captcha-container\" id=\"content\">\n",
      "      <div data-callback=\"handleCaptcha\" id=\"px-captcha\">\n",
      "      </div>\n",
      "      <img alt=\"Zillow\" height=\"14\" src=\"https://www.zillowstatic.com/static/logos/logo-65x14.png\" width=\"65\"/>\n",
      "     </div>\n",
      "    </div>\n",
      "   </div>\n",
      "  </main>\n",
      "  <h4 class=\"uuid-string zsg-fineprint\" id=\"uuid\">\n",
      "  </h4>\n",
      " </body>\n",
      "</html>\n",
      "<!-- H:028  T:1ms  S:2605  R:Tue Apr 21 01:44:05 PDT 2020  B:5.0.64443-master.122d0fb~delivery_ready.0d3d7d1b -->\n",
      "\n"
     ]
    }
   ],
   "source": [
    "print(soup.prettify())"
   ]
  },
  {
   "cell_type": "code",
   "execution_count": 5,
   "metadata": {},
   "outputs": [],
   "source": [
    "from selenium import webdriver\n",
    "import sys\n",
    "from selenium.webdriver.chrome.options import Options "
   ]
  },
  {
   "cell_type": "code",
   "execution_count": 6,
   "metadata": {},
   "outputs": [],
   "source": [
    "options = Options()\n",
    "# options.add_argument('--ignore-certificate-errors')\n",
    "# options.add_argument('--incognito')\n",
    "# options.add_argument('--headless')\n",
    "options.add_argument('--window-size=500,300')"
   ]
  },
  {
   "cell_type": "code",
   "execution_count": 11,
   "metadata": {},
   "outputs": [],
   "source": [
    "chrome_path = r'\\Users\\User\\Documents\\chromedriver'"
   ]
  },
  {
   "cell_type": "code",
   "execution_count": 12,
   "metadata": {},
   "outputs": [],
   "source": [
    "driver = webdriver.Chrome(chrome_path, options=options)"
   ]
  },
  {
   "cell_type": "code",
   "execution_count": 13,
   "metadata": {},
   "outputs": [],
   "source": [
    "driver.set_window_size(1400,1000)"
   ]
  },
  {
   "cell_type": "code",
   "execution_count": 14,
   "metadata": {},
   "outputs": [],
   "source": [
    "driver.get(url)"
   ]
  },
  {
   "cell_type": "code",
   "execution_count": 15,
   "metadata": {},
   "outputs": [
    {
     "data": {
      "text/plain": [
       "<selenium.webdriver.remote.webelement.WebElement (session=\"945ae2a8da0536bea44330c4bbf0b24e\", element=\"581cbcf9-7bb9-40dd-8601-4109cad55272\")>"
      ]
     },
     "execution_count": 15,
     "metadata": {},
     "output_type": "execute_result"
    }
   ],
   "source": [
    "driver.find_element_by_class_name('list-card-heading')"
   ]
  },
  {
   "cell_type": "code",
   "execution_count": 16,
   "metadata": {},
   "outputs": [],
   "source": [
    "page_source = driver.page_source\n",
    "soup = BeautifulSoup(page_source)"
   ]
  },
  {
   "cell_type": "code",
   "execution_count": 35,
   "metadata": {},
   "outputs": [
    {
     "data": {
      "text/plain": [
       "460000.0"
      ]
     },
     "execution_count": 35,
     "metadata": {},
     "output_type": "execute_result"
    }
   ],
   "source": [
    "#price\n",
    "float(soup.findAll('div', {'class' : 'list-card-price'})[0].contents[0].replace('$', '').replace(',', ''))"
   ]
  },
  {
   "cell_type": "code",
   "execution_count": 18,
   "metadata": {},
   "outputs": [
    {
     "data": {
      "text/plain": [
       "3.0"
      ]
     },
     "execution_count": 18,
     "metadata": {},
     "output_type": "execute_result"
    }
   ],
   "source": [
    "#beds\n",
    "float(soup.findAll('ul', {'class' : 'list-card-details'})[0].contents[0].contents[0])"
   ]
  },
  {
   "cell_type": "code",
   "execution_count": 19,
   "metadata": {},
   "outputs": [
    {
     "data": {
      "text/plain": [
       "2.0"
      ]
     },
     "execution_count": 19,
     "metadata": {},
     "output_type": "execute_result"
    }
   ],
   "source": [
    "#baths\n",
    "float(soup.findAll('ul', {'class' : 'list-card-details'})[0].contents[1].contents[0])"
   ]
  },
  {
   "cell_type": "code",
   "execution_count": 20,
   "metadata": {},
   "outputs": [
    {
     "data": {
      "text/plain": [
       "1710.0"
      ]
     },
     "execution_count": 20,
     "metadata": {},
     "output_type": "execute_result"
    }
   ],
   "source": [
    "#sqft\n",
    "float(soup.findAll('ul', {'class' : 'list-card-details'})[0].contents[2].contents[0].replace(',', ''))"
   ]
  },
  {
   "cell_type": "code",
   "execution_count": 47,
   "metadata": {},
   "outputs": [],
   "source": [
    "# there are 40 listings per page, thats why the range is 40\n",
    "# some listings may have missing information, that's why there are exceptions\n",
    "x = 0\n",
    "bedrooms = []\n",
    "bathrooms = []\n",
    "sqft = []\n",
    "price = []\n",
    "p = list(range(40))\n",
    "for v in p:\n",
    "    if len(soup.findAll('ul', {'class' : 'list-card-details'})[x].contents) == 3:\n",
    "        try:\n",
    "            price.append(float(soup.findAll('div', {'class' : 'list-card-price'})[x].contents[0].replace('$', '').replace(',', '')))\n",
    "            bedrooms.append(float(soup.findAll('ul', {'class' : 'list-card-details'})[x].contents[0].contents[0]))\n",
    "            bathrooms.append(float(soup.findAll('ul', {'class' : 'list-card-details'})[x].contents[1].contents[0]))\n",
    "            sqft.append(float(soup.findAll('ul', {'class' : 'list-card-details'})[x].contents[2].contents[0].replace(',', '')))\n",
    "            x = x + 1\n",
    "        except:\n",
    "            if len(price) > len(bedrooms):\n",
    "                bedrooms.append(None)\n",
    "                bathrooms.append(float(soup.findAll('ul', {'class' : 'list-card-details'})[x].contents[1].contents[0]))\n",
    "                sqft.append(float(soup.findAll('ul', {'class' : 'list-card-details'})[x].contents[2].contents[0].replace(',', '')))\n",
    "                x = x + 1\n",
    "            elif len(bedrooms) > len(bathrooms):\n",
    "                bathrooms.append(None)\n",
    "                sqft.append(float(soup.findAll('ul', {'class' : 'list-card-details'})[x].contents[2].contents[0].replace(',', '')))\n",
    "                x = x + 1\n",
    "            else:\n",
    "                sqft.append(None)\n",
    "                x = x + 1\n",
    "            continue\n",
    "    else:\n",
    "        x = x + 1\n",
    "        "
   ]
  },
  {
   "cell_type": "code",
   "execution_count": 74,
   "metadata": {},
   "outputs": [],
   "source": [
    "# each house listing has a script that contained extra \n",
    "# information like the url, zipcode, latitude and longitude\n",
    "houses = soup.findAll('script', {'type' : 'application/ld+json'})"
   ]
  },
  {
   "cell_type": "code",
   "execution_count": 75,
   "metadata": {},
   "outputs": [
    {
     "data": {
      "text/plain": [
       "'{\"@type\":\"SingleFamilyResidence\",\"@context\":\"http://schema.org\",\"name\":\"42617 Se 169th St, North Bend, WA 98045\",\"floorSize\":{\"@type\":\"QuantitativeValue\",\"@context\":\"http://schema.org\",\"value\":\"1,710\"},\"address\":{\"@type\":\"PostalAddress\",\"@context\":\"http://schema.org\",\"streetAddress\":\"42617 SE 169th St \",\"addressLocality\":\"North Bend\",\"addressRegion\":\"WA\",\"postalCode\":\"98045\"},\"geo\":{\"@type\":\"GeoCoordinates\",\"@context\":\"http://schema.org\",\"latitude\":47.4475,\"longitude\":-121.772199},\"url\":\"https://www.zillow.com/homedetails/42617-SE-169th-St-North-Bend-WA-98045/49132596_zpid/\"}'"
      ]
     },
     "execution_count": 75,
     "metadata": {},
     "output_type": "execute_result"
    }
   ],
   "source": [
    "ex = houses[0].text\n",
    "ex"
   ]
  },
  {
   "cell_type": "code",
   "execution_count": 76,
   "metadata": {},
   "outputs": [
    {
     "data": {
      "text/plain": [
       "{'@type': 'SingleFamilyResidence',\n",
       " '@context': 'http://schema.org',\n",
       " 'name': '42617 Se 169th St, North Bend, WA 98045',\n",
       " 'floorSize': {'@type': 'QuantitativeValue',\n",
       "  '@context': 'http://schema.org',\n",
       "  'value': '1,710'},\n",
       " 'address': {'@type': 'PostalAddress',\n",
       "  '@context': 'http://schema.org',\n",
       "  'streetAddress': '42617 SE 169th St ',\n",
       "  'addressLocality': 'North Bend',\n",
       "  'addressRegion': 'WA',\n",
       "  'postalCode': '98045'},\n",
       " 'geo': {'@type': 'GeoCoordinates',\n",
       "  '@context': 'http://schema.org',\n",
       "  'latitude': 47.4475,\n",
       "  'longitude': -121.772199},\n",
       " 'url': 'https://www.zillow.com/homedetails/42617-SE-169th-St-North-Bend-WA-98045/49132596_zpid/'}"
      ]
     },
     "execution_count": 76,
     "metadata": {},
     "output_type": "execute_result"
    }
   ],
   "source": [
    "import ast\n",
    "\n",
    "_dict = ast.literal_eval(ex)\n",
    "_dict"
   ]
  },
  {
   "cell_type": "code",
   "execution_count": 83,
   "metadata": {},
   "outputs": [
    {
     "data": {
      "text/plain": [
       "'98045'"
      ]
     },
     "execution_count": 83,
     "metadata": {},
     "output_type": "execute_result"
    }
   ],
   "source": [
    "_dict['address']['postalCode']"
   ]
  },
  {
   "cell_type": "code",
   "execution_count": 84,
   "metadata": {},
   "outputs": [
    {
     "data": {
      "text/plain": [
       "47.4475"
      ]
     },
     "execution_count": 84,
     "metadata": {},
     "output_type": "execute_result"
    }
   ],
   "source": [
    "_dict['geo']['latitude']"
   ]
  },
  {
   "cell_type": "code",
   "execution_count": 85,
   "metadata": {},
   "outputs": [
    {
     "data": {
      "text/plain": [
       "'https://www.zillow.com/homedetails/42617-SE-169th-St-North-Bend-WA-98045/49132596_zpid/'"
      ]
     },
     "execution_count": 85,
     "metadata": {},
     "output_type": "execute_result"
    }
   ],
   "source": [
    "_dict['url']"
   ]
  },
  {
   "cell_type": "code",
   "execution_count": 93,
   "metadata": {},
   "outputs": [],
   "source": [
    "# Some houses had two scripts, that's why there is an execption\n",
    "# so we just skip the extra script and go to the next house\n",
    "t = 0\n",
    "p = list(range(52))\n",
    "zipcode = []\n",
    "lat = []\n",
    "long = []\n",
    "url = []\n",
    "for v in p:\n",
    "    try:\n",
    "        ex = houses[t].text\n",
    "        _dict = ast.literal_eval(ex)\n",
    "        zipcode.append(_dict['address']['postalCode'])\n",
    "        lat.append(_dict['geo']['latitude'])\n",
    "        long.append(_dict['geo']['longitude'])\n",
    "        url.append(_dict['url'])\n",
    "        t = t + 1\n",
    "    except:\n",
    "        t = t + 1\n",
    "        continue"
   ]
  },
  {
   "cell_type": "code",
   "execution_count": 94,
   "metadata": {},
   "outputs": [
    {
     "data": {
      "text/plain": [
       "39"
      ]
     },
     "execution_count": 94,
     "metadata": {},
     "output_type": "execute_result"
    }
   ],
   "source": [
    "len(lat)"
   ]
  },
  {
   "cell_type": "code",
   "execution_count": 97,
   "metadata": {},
   "outputs": [],
   "source": [
    "import pandas as pd"
   ]
  },
  {
   "cell_type": "code",
   "execution_count": 320,
   "metadata": {},
   "outputs": [],
   "source": [
    "zillowdf = pd.DataFrame()\n",
    "zillowdf['url'] = url\n",
    "zillowdf['lat'] = lat\n",
    "zillowdf['long'] = long\n",
    "zillowdf['zipcode'] = zipcode\n",
    "zillowdf['bedrooms'] = bedrooms\n",
    "zillowdf['bathrooms'] = bathrooms\n",
    "zillowdf['sqft'] = sqft\n",
    "zillowdf['price'] = price"
   ]
  },
  {
   "cell_type": "code",
   "execution_count": 323,
   "metadata": {},
   "outputs": [
    {
     "data": {
      "text/html": [
       "<div>\n",
       "<style scoped>\n",
       "    .dataframe tbody tr th:only-of-type {\n",
       "        vertical-align: middle;\n",
       "    }\n",
       "\n",
       "    .dataframe tbody tr th {\n",
       "        vertical-align: top;\n",
       "    }\n",
       "\n",
       "    .dataframe thead th {\n",
       "        text-align: right;\n",
       "    }\n",
       "</style>\n",
       "<table border=\"1\" class=\"dataframe\">\n",
       "  <thead>\n",
       "    <tr style=\"text-align: right;\">\n",
       "      <th></th>\n",
       "      <th>url</th>\n",
       "      <th>lat</th>\n",
       "      <th>long</th>\n",
       "      <th>zipcode</th>\n",
       "      <th>bedrooms</th>\n",
       "      <th>bathrooms</th>\n",
       "      <th>sqft</th>\n",
       "      <th>price</th>\n",
       "    </tr>\n",
       "  </thead>\n",
       "  <tbody>\n",
       "    <tr>\n",
       "      <td>0</td>\n",
       "      <td>/homedetails/4911-NE-Laurelcrest-Ln-Seattle-WA...</td>\n",
       "      <td>47.653084</td>\n",
       "      <td>-122.275773</td>\n",
       "      <td>98105</td>\n",
       "      <td>7.0</td>\n",
       "      <td>9.00</td>\n",
       "      <td>9590.0</td>\n",
       "      <td>13750000.0</td>\n",
       "    </tr>\n",
       "    <tr>\n",
       "      <td>1</td>\n",
       "      <td>/homedetails/6602-123rd-Ave-NE-Kirkland-WA-980...</td>\n",
       "      <td>47.664966</td>\n",
       "      <td>-122.175160</td>\n",
       "      <td>98033</td>\n",
       "      <td>4.0</td>\n",
       "      <td>2.00</td>\n",
       "      <td>1686.0</td>\n",
       "      <td>925000.0</td>\n",
       "    </tr>\n",
       "    <tr>\n",
       "      <td>2</td>\n",
       "      <td>/homedetails/7351-19th-Ave-NE-Seattle-WA-98115...</td>\n",
       "      <td>47.682788</td>\n",
       "      <td>-122.308074</td>\n",
       "      <td>98115</td>\n",
       "      <td>4.0</td>\n",
       "      <td>2.00</td>\n",
       "      <td>1660.0</td>\n",
       "      <td>799900.0</td>\n",
       "    </tr>\n",
       "    <tr>\n",
       "      <td>3</td>\n",
       "      <td>/homedetails/352-N-80th-St-Seattle-WA-98103/48...</td>\n",
       "      <td>47.687164</td>\n",
       "      <td>-122.352949</td>\n",
       "      <td>98103</td>\n",
       "      <td>2.0</td>\n",
       "      <td>2.00</td>\n",
       "      <td>1050.0</td>\n",
       "      <td>545000.0</td>\n",
       "    </tr>\n",
       "    <tr>\n",
       "      <td>4</td>\n",
       "      <td>/homedetails/308-E-Republican-St-APT-512-Seatt...</td>\n",
       "      <td>47.623230</td>\n",
       "      <td>-122.326870</td>\n",
       "      <td>98102</td>\n",
       "      <td>1.0</td>\n",
       "      <td>1.00</td>\n",
       "      <td>732.0</td>\n",
       "      <td>345000.0</td>\n",
       "    </tr>\n",
       "    <tr>\n",
       "      <td>5</td>\n",
       "      <td>/homedetails/23232-26th-Ave-S-Des-Moines-WA-98...</td>\n",
       "      <td>47.392834</td>\n",
       "      <td>-122.299826</td>\n",
       "      <td>98198</td>\n",
       "      <td>4.0</td>\n",
       "      <td>2.00</td>\n",
       "      <td>1910.0</td>\n",
       "      <td>349950.0</td>\n",
       "    </tr>\n",
       "    <tr>\n",
       "      <td>6</td>\n",
       "      <td>/homedetails/2040-Westlake-Ave-N-Seattle-WA-98...</td>\n",
       "      <td>47.637384</td>\n",
       "      <td>-122.339657</td>\n",
       "      <td>98109</td>\n",
       "      <td>2.0</td>\n",
       "      <td>1.00</td>\n",
       "      <td>923.0</td>\n",
       "      <td>750000.0</td>\n",
       "    </tr>\n",
       "    <tr>\n",
       "      <td>7</td>\n",
       "      <td>/homedetails/11714-SE-65th-St-Bellevue-WA-9800...</td>\n",
       "      <td>47.545199</td>\n",
       "      <td>-122.183726</td>\n",
       "      <td>98006</td>\n",
       "      <td>3.0</td>\n",
       "      <td>NaN</td>\n",
       "      <td>2000.0</td>\n",
       "      <td>798800.0</td>\n",
       "    </tr>\n",
       "    <tr>\n",
       "      <td>8</td>\n",
       "      <td>/homedetails/2903-124th-Ave-NE-Bellevue-WA-980...</td>\n",
       "      <td>47.635945</td>\n",
       "      <td>-122.173301</td>\n",
       "      <td>98005</td>\n",
       "      <td>4.0</td>\n",
       "      <td>3.00</td>\n",
       "      <td>2230.0</td>\n",
       "      <td>1559000.0</td>\n",
       "    </tr>\n",
       "    <tr>\n",
       "      <td>9</td>\n",
       "      <td>/homedetails/3203-S-Lane-St-Seattle-WA-98144/4...</td>\n",
       "      <td>47.596424</td>\n",
       "      <td>-122.291102</td>\n",
       "      <td>98144</td>\n",
       "      <td>4.0</td>\n",
       "      <td>4.00</td>\n",
       "      <td>3200.0</td>\n",
       "      <td>1750000.0</td>\n",
       "    </tr>\n",
       "    <tr>\n",
       "      <td>10</td>\n",
       "      <td>/homedetails/6215-122nd-Ave-SE-Bellevue-WA-980...</td>\n",
       "      <td>47.547150</td>\n",
       "      <td>-122.177585</td>\n",
       "      <td>98006</td>\n",
       "      <td>4.0</td>\n",
       "      <td>3.00</td>\n",
       "      <td>2470.0</td>\n",
       "      <td>775000.0</td>\n",
       "    </tr>\n",
       "    <tr>\n",
       "      <td>11</td>\n",
       "      <td>/homedetails/1214-Warren-Ave-N-Seattle-WA-9810...</td>\n",
       "      <td>47.630230</td>\n",
       "      <td>-122.353836</td>\n",
       "      <td>98109</td>\n",
       "      <td>4.0</td>\n",
       "      <td>10.00</td>\n",
       "      <td>9970.0</td>\n",
       "      <td>11000000.0</td>\n",
       "    </tr>\n",
       "    <tr>\n",
       "      <td>12</td>\n",
       "      <td>/homedetails/16639-SE-26th-Pl-Bellevue-WA-9800...</td>\n",
       "      <td>47.586151</td>\n",
       "      <td>-122.117167</td>\n",
       "      <td>98008</td>\n",
       "      <td>4.0</td>\n",
       "      <td>3.00</td>\n",
       "      <td>2300.0</td>\n",
       "      <td>899000.0</td>\n",
       "    </tr>\n",
       "    <tr>\n",
       "      <td>13</td>\n",
       "      <td>/homedetails/635-NW-79th-St-Seattle-WA-98117/4...</td>\n",
       "      <td>47.685972</td>\n",
       "      <td>-122.364869</td>\n",
       "      <td>98117</td>\n",
       "      <td>4.0</td>\n",
       "      <td>1.00</td>\n",
       "      <td>2340.0</td>\n",
       "      <td>749900.0</td>\n",
       "    </tr>\n",
       "    <tr>\n",
       "      <td>14</td>\n",
       "      <td>/homedetails/10060-38th-Ave-NE-Seattle-WA-9812...</td>\n",
       "      <td>47.702776</td>\n",
       "      <td>-122.287668</td>\n",
       "      <td>98125</td>\n",
       "      <td>4.0</td>\n",
       "      <td>3.00</td>\n",
       "      <td>1920.0</td>\n",
       "      <td>925000.0</td>\n",
       "    </tr>\n",
       "    <tr>\n",
       "      <td>15</td>\n",
       "      <td>/homedetails/31712-42nd-Ave-SW-Federal-Way-WA-...</td>\n",
       "      <td>47.317255</td>\n",
       "      <td>-122.385443</td>\n",
       "      <td>98023</td>\n",
       "      <td>3.0</td>\n",
       "      <td>1.75</td>\n",
       "      <td>2870.0</td>\n",
       "      <td>439999.0</td>\n",
       "    </tr>\n",
       "    <tr>\n",
       "      <td>16</td>\n",
       "      <td>/homedetails/13249-6th-Ave-NW-Seattle-WA-98177...</td>\n",
       "      <td>47.726819</td>\n",
       "      <td>-122.364035</td>\n",
       "      <td>98177</td>\n",
       "      <td>5.0</td>\n",
       "      <td>3.00</td>\n",
       "      <td>3850.0</td>\n",
       "      <td>1485000.0</td>\n",
       "    </tr>\n",
       "    <tr>\n",
       "      <td>17</td>\n",
       "      <td>/homedetails/7343-19th-Ave-NE-Seattle-WA-98115...</td>\n",
       "      <td>47.682521</td>\n",
       "      <td>-122.308110</td>\n",
       "      <td>98115</td>\n",
       "      <td>3.0</td>\n",
       "      <td>3.00</td>\n",
       "      <td>1710.0</td>\n",
       "      <td>900000.0</td>\n",
       "    </tr>\n",
       "    <tr>\n",
       "      <td>18</td>\n",
       "      <td>/homedetails/728-N-80th-St-Seattle-WA-98103/48...</td>\n",
       "      <td>47.687163</td>\n",
       "      <td>-122.348625</td>\n",
       "      <td>98103</td>\n",
       "      <td>3.0</td>\n",
       "      <td>2.00</td>\n",
       "      <td>1610.0</td>\n",
       "      <td>689000.0</td>\n",
       "    </tr>\n",
       "    <tr>\n",
       "      <td>19</td>\n",
       "      <td>/homedetails/2247-Evergreen-Point-Rd-Medina-WA...</td>\n",
       "      <td>47.631648</td>\n",
       "      <td>-122.240773</td>\n",
       "      <td>98039</td>\n",
       "      <td>4.0</td>\n",
       "      <td>7.00</td>\n",
       "      <td>10755.0</td>\n",
       "      <td>25500000.0</td>\n",
       "    </tr>\n",
       "    <tr>\n",
       "      <td>20</td>\n",
       "      <td>/homedetails/11620-SE-45th-Pl-Bellevue-WA-9800...</td>\n",
       "      <td>47.565346</td>\n",
       "      <td>-122.182813</td>\n",
       "      <td>98006</td>\n",
       "      <td>3.0</td>\n",
       "      <td>4.00</td>\n",
       "      <td>3532.0</td>\n",
       "      <td>988000.0</td>\n",
       "    </tr>\n",
       "    <tr>\n",
       "      <td>21</td>\n",
       "      <td>/homedetails/421-W-Highland-Dr-Seattle-WA-9811...</td>\n",
       "      <td>47.629297</td>\n",
       "      <td>-122.362771</td>\n",
       "      <td>98119</td>\n",
       "      <td>5.0</td>\n",
       "      <td>7.00</td>\n",
       "      <td>7900.0</td>\n",
       "      <td>7990000.0</td>\n",
       "    </tr>\n",
       "    <tr>\n",
       "      <td>22</td>\n",
       "      <td>/homedetails/21819-12th-Ave-S-Des-Moines-WA-98...</td>\n",
       "      <td>47.405781</td>\n",
       "      <td>-122.318318</td>\n",
       "      <td>98198</td>\n",
       "      <td>4.0</td>\n",
       "      <td>2.00</td>\n",
       "      <td>1650.0</td>\n",
       "      <td>375000.0</td>\n",
       "    </tr>\n",
       "    <tr>\n",
       "      <td>23</td>\n",
       "      <td>/homedetails/20999-NE-15th-St-Sammamish-WA-980...</td>\n",
       "      <td>47.622217</td>\n",
       "      <td>-122.060228</td>\n",
       "      <td>98074</td>\n",
       "      <td>6.0</td>\n",
       "      <td>4.00</td>\n",
       "      <td>3501.0</td>\n",
       "      <td>1198000.0</td>\n",
       "    </tr>\n",
       "    <tr>\n",
       "      <td>24</td>\n",
       "      <td>/homedetails/11612-NE-97th-St-Kirkland-WA-9803...</td>\n",
       "      <td>47.688424</td>\n",
       "      <td>-122.185308</td>\n",
       "      <td>98033</td>\n",
       "      <td>3.0</td>\n",
       "      <td>3.00</td>\n",
       "      <td>1610.0</td>\n",
       "      <td>950000.0</td>\n",
       "    </tr>\n",
       "    <tr>\n",
       "      <td>25</td>\n",
       "      <td>/homedetails/2122-S-371st-St-Federal-Way-WA-98...</td>\n",
       "      <td>47.269332</td>\n",
       "      <td>-122.306582</td>\n",
       "      <td>98003</td>\n",
       "      <td>4.0</td>\n",
       "      <td>3.00</td>\n",
       "      <td>2760.0</td>\n",
       "      <td>499950.0</td>\n",
       "    </tr>\n",
       "    <tr>\n",
       "      <td>26</td>\n",
       "      <td>/homedetails/28862-38th-Ave-S-Auburn-WA-98001/...</td>\n",
       "      <td>47.341664</td>\n",
       "      <td>-122.285266</td>\n",
       "      <td>98001</td>\n",
       "      <td>4.0</td>\n",
       "      <td>2.00</td>\n",
       "      <td>2100.0</td>\n",
       "      <td>399950.0</td>\n",
       "    </tr>\n",
       "    <tr>\n",
       "      <td>27</td>\n",
       "      <td>/homedetails/2810-216th-Ave-SE-Sammamish-WA-98...</td>\n",
       "      <td>47.582956</td>\n",
       "      <td>-122.051197</td>\n",
       "      <td>98075</td>\n",
       "      <td>4.0</td>\n",
       "      <td>3.00</td>\n",
       "      <td>2210.0</td>\n",
       "      <td>925000.0</td>\n",
       "    </tr>\n",
       "    <tr>\n",
       "      <td>28</td>\n",
       "      <td>/homedetails/19234-127th-Ave-NE-Bothell-WA-980...</td>\n",
       "      <td>47.766492</td>\n",
       "      <td>-122.171630</td>\n",
       "      <td>98011</td>\n",
       "      <td>2.0</td>\n",
       "      <td>2.00</td>\n",
       "      <td>1152.0</td>\n",
       "      <td>299500.0</td>\n",
       "    </tr>\n",
       "    <tr>\n",
       "      <td>29</td>\n",
       "      <td>/homedetails/13901-Somerset-Ln-SE-Bellevue-WA-...</td>\n",
       "      <td>47.564863</td>\n",
       "      <td>-122.154992</td>\n",
       "      <td>98006</td>\n",
       "      <td>3.0</td>\n",
       "      <td>3.00</td>\n",
       "      <td>2840.0</td>\n",
       "      <td>990000.0</td>\n",
       "    </tr>\n",
       "    <tr>\n",
       "      <td>30</td>\n",
       "      <td>/homedetails/9206-157th-Pl-NE-Redmond-WA-98052...</td>\n",
       "      <td>47.684045</td>\n",
       "      <td>-122.129986</td>\n",
       "      <td>98052</td>\n",
       "      <td>3.0</td>\n",
       "      <td>3.00</td>\n",
       "      <td>1470.0</td>\n",
       "      <td>715000.0</td>\n",
       "    </tr>\n",
       "    <tr>\n",
       "      <td>31</td>\n",
       "      <td>/homedetails/35907-14th-Pl-S-Federal-Way-WA-98...</td>\n",
       "      <td>47.279657</td>\n",
       "      <td>-122.315440</td>\n",
       "      <td>98003</td>\n",
       "      <td>3.0</td>\n",
       "      <td>2.00</td>\n",
       "      <td>1960.0</td>\n",
       "      <td>325000.0</td>\n",
       "    </tr>\n",
       "    <tr>\n",
       "      <td>32</td>\n",
       "      <td>/homedetails/8634-NE-137th-St-Kirkland-WA-9803...</td>\n",
       "      <td>47.723044</td>\n",
       "      <td>-122.225661</td>\n",
       "      <td>98034</td>\n",
       "      <td>5.0</td>\n",
       "      <td>2.00</td>\n",
       "      <td>2190.0</td>\n",
       "      <td>819888.0</td>\n",
       "    </tr>\n",
       "    <tr>\n",
       "      <td>33</td>\n",
       "      <td>/homedetails/7518-151st-Ave-NE-Redmond-WA-9805...</td>\n",
       "      <td>47.672090</td>\n",
       "      <td>-122.138643</td>\n",
       "      <td>98052</td>\n",
       "      <td>3.0</td>\n",
       "      <td>2.00</td>\n",
       "      <td>960.0</td>\n",
       "      <td>625000.0</td>\n",
       "    </tr>\n",
       "    <tr>\n",
       "      <td>34</td>\n",
       "      <td>/homedetails/3641-134th-Ave-NE-Bellevue-WA-980...</td>\n",
       "      <td>47.643640</td>\n",
       "      <td>-122.162830</td>\n",
       "      <td>98005</td>\n",
       "      <td>5.0</td>\n",
       "      <td>5.50</td>\n",
       "      <td>7435.0</td>\n",
       "      <td>4498000.0</td>\n",
       "    </tr>\n",
       "    <tr>\n",
       "      <td>35</td>\n",
       "      <td>/homedetails/3406-W-Government-Way-APT-2-Seatt...</td>\n",
       "      <td>47.659195</td>\n",
       "      <td>-122.401539</td>\n",
       "      <td>98199</td>\n",
       "      <td>2.0</td>\n",
       "      <td>2.00</td>\n",
       "      <td>950.0</td>\n",
       "      <td>429000.0</td>\n",
       "    </tr>\n",
       "    <tr>\n",
       "      <td>36</td>\n",
       "      <td>/homedetails/13208-412th-Way-SE-North-Bend-WA-...</td>\n",
       "      <td>47.480902</td>\n",
       "      <td>-121.787726</td>\n",
       "      <td>98045</td>\n",
       "      <td>3.0</td>\n",
       "      <td>3.00</td>\n",
       "      <td>2246.0</td>\n",
       "      <td>399000.0</td>\n",
       "    </tr>\n",
       "    <tr>\n",
       "      <td>37</td>\n",
       "      <td>/homedetails/6210-Linden-Ave-N-Seattle-WA-9810...</td>\n",
       "      <td>47.674291</td>\n",
       "      <td>-122.347949</td>\n",
       "      <td>98103</td>\n",
       "      <td>3.0</td>\n",
       "      <td>1.00</td>\n",
       "      <td>1150.0</td>\n",
       "      <td>549000.0</td>\n",
       "    </tr>\n",
       "    <tr>\n",
       "      <td>38</td>\n",
       "      <td>/homedetails/4233-S-273rd-Pl-Auburn-WA-98001/4...</td>\n",
       "      <td>47.356392</td>\n",
       "      <td>-122.279552</td>\n",
       "      <td>98001</td>\n",
       "      <td>5.0</td>\n",
       "      <td>3.00</td>\n",
       "      <td>2510.0</td>\n",
       "      <td>475000.0</td>\n",
       "    </tr>\n",
       "    <tr>\n",
       "      <td>39</td>\n",
       "      <td>/homedetails/3851-165th-Pl-SE-Bellevue-WA-9800...</td>\n",
       "      <td>47.575036</td>\n",
       "      <td>-122.119099</td>\n",
       "      <td>98008</td>\n",
       "      <td>3.0</td>\n",
       "      <td>3.00</td>\n",
       "      <td>2050.0</td>\n",
       "      <td>898000.0</td>\n",
       "    </tr>\n",
       "  </tbody>\n",
       "</table>\n",
       "</div>"
      ],
      "text/plain": [
       "                                                  url        lat        long  \\\n",
       "0   /homedetails/4911-NE-Laurelcrest-Ln-Seattle-WA...  47.653084 -122.275773   \n",
       "1   /homedetails/6602-123rd-Ave-NE-Kirkland-WA-980...  47.664966 -122.175160   \n",
       "2   /homedetails/7351-19th-Ave-NE-Seattle-WA-98115...  47.682788 -122.308074   \n",
       "3   /homedetails/352-N-80th-St-Seattle-WA-98103/48...  47.687164 -122.352949   \n",
       "4   /homedetails/308-E-Republican-St-APT-512-Seatt...  47.623230 -122.326870   \n",
       "5   /homedetails/23232-26th-Ave-S-Des-Moines-WA-98...  47.392834 -122.299826   \n",
       "6   /homedetails/2040-Westlake-Ave-N-Seattle-WA-98...  47.637384 -122.339657   \n",
       "7   /homedetails/11714-SE-65th-St-Bellevue-WA-9800...  47.545199 -122.183726   \n",
       "8   /homedetails/2903-124th-Ave-NE-Bellevue-WA-980...  47.635945 -122.173301   \n",
       "9   /homedetails/3203-S-Lane-St-Seattle-WA-98144/4...  47.596424 -122.291102   \n",
       "10  /homedetails/6215-122nd-Ave-SE-Bellevue-WA-980...  47.547150 -122.177585   \n",
       "11  /homedetails/1214-Warren-Ave-N-Seattle-WA-9810...  47.630230 -122.353836   \n",
       "12  /homedetails/16639-SE-26th-Pl-Bellevue-WA-9800...  47.586151 -122.117167   \n",
       "13  /homedetails/635-NW-79th-St-Seattle-WA-98117/4...  47.685972 -122.364869   \n",
       "14  /homedetails/10060-38th-Ave-NE-Seattle-WA-9812...  47.702776 -122.287668   \n",
       "15  /homedetails/31712-42nd-Ave-SW-Federal-Way-WA-...  47.317255 -122.385443   \n",
       "16  /homedetails/13249-6th-Ave-NW-Seattle-WA-98177...  47.726819 -122.364035   \n",
       "17  /homedetails/7343-19th-Ave-NE-Seattle-WA-98115...  47.682521 -122.308110   \n",
       "18  /homedetails/728-N-80th-St-Seattle-WA-98103/48...  47.687163 -122.348625   \n",
       "19  /homedetails/2247-Evergreen-Point-Rd-Medina-WA...  47.631648 -122.240773   \n",
       "20  /homedetails/11620-SE-45th-Pl-Bellevue-WA-9800...  47.565346 -122.182813   \n",
       "21  /homedetails/421-W-Highland-Dr-Seattle-WA-9811...  47.629297 -122.362771   \n",
       "22  /homedetails/21819-12th-Ave-S-Des-Moines-WA-98...  47.405781 -122.318318   \n",
       "23  /homedetails/20999-NE-15th-St-Sammamish-WA-980...  47.622217 -122.060228   \n",
       "24  /homedetails/11612-NE-97th-St-Kirkland-WA-9803...  47.688424 -122.185308   \n",
       "25  /homedetails/2122-S-371st-St-Federal-Way-WA-98...  47.269332 -122.306582   \n",
       "26  /homedetails/28862-38th-Ave-S-Auburn-WA-98001/...  47.341664 -122.285266   \n",
       "27  /homedetails/2810-216th-Ave-SE-Sammamish-WA-98...  47.582956 -122.051197   \n",
       "28  /homedetails/19234-127th-Ave-NE-Bothell-WA-980...  47.766492 -122.171630   \n",
       "29  /homedetails/13901-Somerset-Ln-SE-Bellevue-WA-...  47.564863 -122.154992   \n",
       "30  /homedetails/9206-157th-Pl-NE-Redmond-WA-98052...  47.684045 -122.129986   \n",
       "31  /homedetails/35907-14th-Pl-S-Federal-Way-WA-98...  47.279657 -122.315440   \n",
       "32  /homedetails/8634-NE-137th-St-Kirkland-WA-9803...  47.723044 -122.225661   \n",
       "33  /homedetails/7518-151st-Ave-NE-Redmond-WA-9805...  47.672090 -122.138643   \n",
       "34  /homedetails/3641-134th-Ave-NE-Bellevue-WA-980...  47.643640 -122.162830   \n",
       "35  /homedetails/3406-W-Government-Way-APT-2-Seatt...  47.659195 -122.401539   \n",
       "36  /homedetails/13208-412th-Way-SE-North-Bend-WA-...  47.480902 -121.787726   \n",
       "37  /homedetails/6210-Linden-Ave-N-Seattle-WA-9810...  47.674291 -122.347949   \n",
       "38  /homedetails/4233-S-273rd-Pl-Auburn-WA-98001/4...  47.356392 -122.279552   \n",
       "39  /homedetails/3851-165th-Pl-SE-Bellevue-WA-9800...  47.575036 -122.119099   \n",
       "\n",
       "   zipcode  bedrooms  bathrooms     sqft       price  \n",
       "0    98105       7.0       9.00   9590.0  13750000.0  \n",
       "1    98033       4.0       2.00   1686.0    925000.0  \n",
       "2    98115       4.0       2.00   1660.0    799900.0  \n",
       "3    98103       2.0       2.00   1050.0    545000.0  \n",
       "4    98102       1.0       1.00    732.0    345000.0  \n",
       "5    98198       4.0       2.00   1910.0    349950.0  \n",
       "6    98109       2.0       1.00    923.0    750000.0  \n",
       "7    98006       3.0        NaN   2000.0    798800.0  \n",
       "8    98005       4.0       3.00   2230.0   1559000.0  \n",
       "9    98144       4.0       4.00   3200.0   1750000.0  \n",
       "10   98006       4.0       3.00   2470.0    775000.0  \n",
       "11   98109       4.0      10.00   9970.0  11000000.0  \n",
       "12   98008       4.0       3.00   2300.0    899000.0  \n",
       "13   98117       4.0       1.00   2340.0    749900.0  \n",
       "14   98125       4.0       3.00   1920.0    925000.0  \n",
       "15   98023       3.0       1.75   2870.0    439999.0  \n",
       "16   98177       5.0       3.00   3850.0   1485000.0  \n",
       "17   98115       3.0       3.00   1710.0    900000.0  \n",
       "18   98103       3.0       2.00   1610.0    689000.0  \n",
       "19   98039       4.0       7.00  10755.0  25500000.0  \n",
       "20   98006       3.0       4.00   3532.0    988000.0  \n",
       "21   98119       5.0       7.00   7900.0   7990000.0  \n",
       "22   98198       4.0       2.00   1650.0    375000.0  \n",
       "23   98074       6.0       4.00   3501.0   1198000.0  \n",
       "24   98033       3.0       3.00   1610.0    950000.0  \n",
       "25   98003       4.0       3.00   2760.0    499950.0  \n",
       "26   98001       4.0       2.00   2100.0    399950.0  \n",
       "27   98075       4.0       3.00   2210.0    925000.0  \n",
       "28   98011       2.0       2.00   1152.0    299500.0  \n",
       "29   98006       3.0       3.00   2840.0    990000.0  \n",
       "30   98052       3.0       3.00   1470.0    715000.0  \n",
       "31   98003       3.0       2.00   1960.0    325000.0  \n",
       "32   98034       5.0       2.00   2190.0    819888.0  \n",
       "33   98052       3.0       2.00    960.0    625000.0  \n",
       "34   98005       5.0       5.50   7435.0   4498000.0  \n",
       "35   98199       2.0       2.00    950.0    429000.0  \n",
       "36   98045       3.0       3.00   2246.0    399000.0  \n",
       "37   98103       3.0       1.00   1150.0    549000.0  \n",
       "38   98001       5.0       3.00   2510.0    475000.0  \n",
       "39   98008       3.0       3.00   2050.0    898000.0  "
      ]
     },
     "execution_count": 323,
     "metadata": {},
     "output_type": "execute_result"
    }
   ],
   "source": [
    "zillowdf"
   ]
  },
  {
   "cell_type": "code",
   "execution_count": 324,
   "metadata": {},
   "outputs": [],
   "source": [
    "zillowdf.to_csv(path_or_buf='~/Documents/ws_Zillow_KC_listings_CL.csv')"
   ]
  },
  {
   "cell_type": "code",
   "execution_count": 98,
   "metadata": {},
   "outputs": [],
   "source": [
    "driver.quit()"
   ]
  },
  {
   "cell_type": "code",
   "execution_count": null,
   "metadata": {},
   "outputs": [],
   "source": []
  }
 ],
 "metadata": {
  "kernelspec": {
   "display_name": "Python 3",
   "language": "python",
   "name": "python3"
  },
  "language_info": {
   "codemirror_mode": {
    "name": "ipython",
    "version": 3
   },
   "file_extension": ".py",
   "mimetype": "text/x-python",
   "name": "python",
   "nbconvert_exporter": "python",
   "pygments_lexer": "ipython3",
   "version": "3.7.4"
  }
 },
 "nbformat": 4,
 "nbformat_minor": 4
}
